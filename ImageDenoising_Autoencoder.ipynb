{
  "nbformat": 4,
  "nbformat_minor": 0,
  "metadata": {
    "kernelspec": {
      "name": "python3",
      "display_name": "Python 3"
    },
    "language_info": {
      "codemirror_mode": {
        "name": "ipython",
        "version": 3
      },
      "file_extension": ".py",
      "mimetype": "text/x-python",
      "name": "python",
      "nbconvert_exporter": "python",
      "pygments_lexer": "ipython3",
      "version": "3.6.3"
    },
    "colab": {
      "name": "ImageDenoising_Autoencoder.ipynb",
      "provenance": [],
      "collapsed_sections": [],
      "include_colab_link": true
    },
    "accelerator": "GPU"
  },
  "cells": [
    {
      "cell_type": "markdown",
      "metadata": {
        "id": "view-in-github",
        "colab_type": "text"
      },
      "source": [
        "<a href=\"https://colab.research.google.com/github/bibake/ImageDenoising_AutoEncoder/blob/master/ImageDenoising_Autoencoder.ipynb\" target=\"_parent\"><img src=\"https://colab.research.google.com/assets/colab-badge.svg\" alt=\"Open In Colab\"/></a>"
      ]
    },
    {
      "cell_type": "code",
      "metadata": {
        "id": "lG9H1kkWnPK0",
        "colab_type": "code",
        "colab": {}
      },
      "source": [
        "try:\n",
        "  # %tensorflow_version only exists in Colab.\n",
        "  %tensorflow_version 2.x\n",
        "except Exception:\n",
        "  pass"
      ],
      "execution_count": 0,
      "outputs": []
    },
    {
      "cell_type": "code",
      "metadata": {
        "id": "quA8cUfvoFV-",
        "colab_type": "code",
        "outputId": "f7a84a30-3ea5-4d97-cd3a-fd91f7555040",
        "colab": {
          "base_uri": "https://localhost:8080/",
          "height": 34
        }
      },
      "source": [
        "from __future__ import absolute_import, division, print_function, unicode_literals\n",
        "\n",
        "# TensorFlow and tf.keras\n",
        "import tensorflow as tf\n",
        "from tensorflow import keras\n",
        "\n",
        "# Helper libraries\n",
        "import numpy as np\n",
        "import matplotlib.pyplot as plt\n",
        "\n",
        "print(tf.__version__)"
      ],
      "execution_count": 0,
      "outputs": [
        {
          "output_type": "stream",
          "text": [
            "2.2.0-rc3\n"
          ],
          "name": "stdout"
        }
      ]
    },
    {
      "cell_type": "code",
      "metadata": {
        "scrolled": true,
        "id": "FnnmyTryfhlK",
        "colab_type": "code",
        "colab": {}
      },
      "source": [
        "mnist = keras.datasets.mnist\n",
        "(x_train, y_), (x_test, _) = mnist.load_data()"
      ],
      "execution_count": 0,
      "outputs": []
    },
    {
      "cell_type": "code",
      "metadata": {
        "id": "BSTOevyRfhlO",
        "colab_type": "code",
        "colab": {}
      },
      "source": [
        "x_train = x_train.astype('float32') / 255.\n",
        "x_test = x_test.astype('float32') / 255.\n",
        "x_train = np.reshape(x_train, (len(x_train), 28, 28, 1))  # adapt this if using `channels_first` image data format\n",
        "x_test = np.reshape(x_test, (len(x_test), 28, 28, 1))  # adapt this if using `channels_first` image data format"
      ],
      "execution_count": 0,
      "outputs": []
    },
    {
      "cell_type": "code",
      "metadata": {
        "id": "H-xIvlgmfhlS",
        "colab_type": "code",
        "colab": {}
      },
      "source": [
        "noise_factor = 0.5\n",
        "x_train_noisy = x_train + noise_factor * np.random.normal(loc=0.0, scale=1.0, size=x_train.shape) \n",
        "x_test_noisy = x_test + noise_factor * np.random.normal(loc=0.0, scale=1.0, size=x_test.shape) \n",
        "x_train_noisy = np.clip(x_train_noisy, 0., 1.)\n",
        "x_test_noisy = np.clip(x_test_noisy, 0., 1.)"
      ],
      "execution_count": 0,
      "outputs": []
    },
    {
      "cell_type": "code",
      "metadata": {
        "id": "kDhH-KAWfhlZ",
        "colab_type": "code",
        "outputId": "848c8509-318b-4991-c46a-03780b03950b",
        "colab": {
          "base_uri": "https://localhost:8080/",
          "height": 129
        }
      },
      "source": [
        "n = 10\n",
        "plt.figure(figsize=(20, 2))\n",
        "for i in range(1,n):\n",
        "    ax = plt.subplot(1, n, i)\n",
        "    plt.imshow(x_test_noisy[i].reshape(28, 28))\n",
        "    plt.gray()\n",
        "    ax.get_xaxis().set_visible(False)\n",
        "    ax.get_yaxis().set_visible(False)\n",
        "plt.show()\n"
      ],
      "execution_count": 0,
      "outputs": [
        {
          "output_type": "display_data",
          "data": {
            "image/png": "[encoded data removed]",
            "text/plain": [
              "<Figure size 1440x144 with 9 Axes>"
            ]
          },
          "metadata": {
            "tags": [],
            "needs_background": "light"
          }
        }
      ]
    },
    {
      "cell_type": "code",
      "metadata": {
        "id": "gSks8AIZq9Gq",
        "colab_type": "code",
        "colab": {}
      },
      "source": [
        "from tensorflow.keras import layers\n",
        "from tensorflow.keras import Model"
      ],
      "execution_count": 0,
      "outputs": []
    },
    {
      "cell_type": "code",
      "metadata": {
        "id": "s2z7jjBppq9O",
        "colab_type": "code",
        "outputId": "dfe7957d-d785-4294-e3d5-0a0f98d2be76",
        "colab": {
          "base_uri": "https://localhost:8080/",
          "height": 493
        }
      },
      "source": [
        "img_input = layers.Input(shape=(28, 28, 1))\n",
        "\n",
        "x = layers.Conv2D(32, 3, activation=\"relu\", padding='same')(img_input)\n",
        "x = layers.MaxPool2D(2)(x)\n",
        "x = layers.Conv2D(32, 3, activation=\"relu\", padding='same')(x)\n",
        "encoded = layers.MaxPool2D(2)(x)\n",
        "\n",
        "\n",
        "x = layers.Conv2D(32, 3, activation='relu', padding = 'same')(encoded)\n",
        "x = layers.UpSampling2D(2)(x)\n",
        "x = layers.Conv2D(32, 3, activation='relu', padding = 'same')(x)\n",
        "x = layers.UpSampling2D(2)(x)\n",
        "decoded = layers.Conv2D(1, 3, activation = 'sigmoid', padding = 'same')(x)\n",
        "\n",
        "autoencoder = Model(img_input, decoded)\n",
        "autoencoder.summary()"
      ],
      "execution_count": 0,
      "outputs": [
        {
          "output_type": "stream",
          "text": [
            "Model: \"model_3\"\n",
            "_________________________________________________________________\n",
            "Layer (type)                 Output Shape              Param #   \n",
            "=================================================================\n",
            "input_4 (InputLayer)         [(None, 28, 28, 1)]       0         \n",
            "_________________________________________________________________\n",
            "conv2d_15 (Conv2D)           (None, 28, 28, 32)        320       \n",
            "_________________________________________________________________\n",
            "max_pooling2d_6 (MaxPooling2 (None, 14, 14, 32)        0         \n",
            "_________________________________________________________________\n",
            "conv2d_16 (Conv2D)           (None, 14, 14, 32)        9248      \n",
            "_________________________________________________________________\n",
            "max_pooling2d_7 (MaxPooling2 (None, 7, 7, 32)          0         \n",
            "_________________________________________________________________\n",
            "conv2d_17 (Conv2D)           (None, 7, 7, 32)          9248      \n",
            "_________________________________________________________________\n",
            "up_sampling2d_6 (UpSampling2 (None, 14, 14, 32)        0         \n",
            "_________________________________________________________________\n",
            "conv2d_18 (Conv2D)           (None, 14, 14, 32)        9248      \n",
            "_________________________________________________________________\n",
            "up_sampling2d_7 (UpSampling2 (None, 28, 28, 32)        0         \n",
            "_________________________________________________________________\n",
            "conv2d_19 (Conv2D)           (None, 28, 28, 1)         289       \n",
            "=================================================================\n",
            "Total params: 28,353\n",
            "Trainable params: 28,353\n",
            "Non-trainable params: 0\n",
            "_________________________________________________________________\n"
          ],
          "name": "stdout"
        }
      ]
    },
    {
      "cell_type": "code",
      "metadata": {
        "id": "CEX78zLo7vXC",
        "colab_type": "code",
        "colab": {}
      },
      "source": [
        "from tensorflow.keras.callbacks import EarlyStopping\n",
        "\n",
        "es = EarlyStopping(patience = 10, restore_best_weights=True)\n",
        "\n",
        "autoencoder.compile(optimizer='adam', loss='binary_crossentropy')"
      ],
      "execution_count": 0,
      "outputs": []
    },
    {
      "cell_type": "code",
      "metadata": {
        "scrolled": true,
        "id": "NR3gRc9Yfhlj",
        "colab_type": "code",
        "outputId": "6170ff3e-5602-43e7-d0f3-1f6e55600e81",
        "colab": {
          "base_uri": "https://localhost:8080/",
          "height": 1000
        }
      },
      "source": [
        "autoencoder.fit(x_train_noisy, x_train, epochs=500, batch_size=16, validation_data=(x_test_noisy, x_test), callbacks=[es])"
      ],
      "execution_count": 0,
      "outputs": [
        {
          "output_type": "stream",
          "text": [
            "Epoch 1/500\n",
            "3750/3750 [==============================] - 10s 3ms/step - loss: 0.1156 - val_loss: 0.1015\n",
            "Epoch 2/500\n",
            "3750/3750 [==============================] - 10s 3ms/step - loss: 0.0995 - val_loss: 0.0973\n",
            "Epoch 3/500\n",
            "3750/3750 [==============================] - 10s 3ms/step - loss: 0.0975 - val_loss: 0.0963\n",
            "Epoch 4/500\n",
            "3750/3750 [==============================] - 10s 3ms/step - loss: 0.0966 - val_loss: 0.0954\n",
            "Epoch 5/500\n",
            "3750/3750 [==============================] - 10s 3ms/step - loss: 0.0960 - val_loss: 0.0952\n",
            "Epoch 6/500\n",
            "3750/3750 [==============================] - 10s 3ms/step - loss: 0.0957 - val_loss: 0.0952\n",
            "Epoch 7/500\n",
            "3750/3750 [==============================] - 10s 3ms/step - loss: 0.0954 - val_loss: 0.0947\n",
            "Epoch 8/500\n",
            "3750/3750 [==============================] - 10s 3ms/step - loss: 0.0952 - val_loss: 0.0947\n",
            "Epoch 9/500\n",
            "3750/3750 [==============================] - 10s 3ms/step - loss: 0.0951 - val_loss: 0.0944\n",
            "Epoch 10/500\n",
            "3750/3750 [==============================] - 10s 3ms/step - loss: 0.0949 - val_loss: 0.0944\n",
            "Epoch 11/500\n",
            "3750/3750 [==============================] - 10s 3ms/step - loss: 0.0948 - val_loss: 0.0943\n",
            "Epoch 12/500\n",
            "3750/3750 [==============================] - 10s 3ms/step - loss: 0.0947 - val_loss: 0.0948\n",
            "Epoch 13/500\n",
            "3750/3750 [==============================] - 10s 3ms/step - loss: 0.0946 - val_loss: 0.0941\n",
            "Epoch 14/500\n",
            "3750/3750 [==============================] - 10s 3ms/step - loss: 0.0946 - val_loss: 0.0944\n",
            "Epoch 15/500\n",
            "3750/3750 [==============================] - 10s 3ms/step - loss: 0.0945 - val_loss: 0.0942\n",
            "Epoch 16/500\n",
            "3750/3750 [==============================] - 10s 3ms/step - loss: 0.0944 - val_loss: 0.0941\n",
            "Epoch 17/500\n",
            "3750/3750 [==============================] - 10s 3ms/step - loss: 0.0944 - val_loss: 0.0945\n",
            "Epoch 18/500\n",
            "3750/3750 [==============================] - 10s 3ms/step - loss: 0.0943 - val_loss: 0.0940\n",
            "Epoch 19/500\n",
            "3750/3750 [==============================] - 10s 3ms/step - loss: 0.0943 - val_loss: 0.0940\n",
            "Epoch 20/500\n",
            "3750/3750 [==============================] - 10s 3ms/step - loss: 0.0943 - val_loss: 0.0941\n",
            "Epoch 21/500\n",
            "3750/3750 [==============================] - 10s 3ms/step - loss: 0.0942 - val_loss: 0.0943\n",
            "Epoch 22/500\n",
            "3750/3750 [==============================] - 10s 3ms/step - loss: 0.0942 - val_loss: 0.0950\n",
            "Epoch 23/500\n",
            "3750/3750 [==============================] - 10s 3ms/step - loss: 0.0941 - val_loss: 0.0938\n",
            "Epoch 24/500\n",
            "3750/3750 [==============================] - 10s 3ms/step - loss: 0.0941 - val_loss: 0.0942\n",
            "Epoch 25/500\n",
            "3750/3750 [==============================] - 10s 3ms/step - loss: 0.0941 - val_loss: 0.0948\n",
            "Epoch 26/500\n",
            "3750/3750 [==============================] - 10s 3ms/step - loss: 0.0941 - val_loss: 0.0939\n",
            "Epoch 27/500\n",
            "3750/3750 [==============================] - 10s 3ms/step - loss: 0.0940 - val_loss: 0.0940\n",
            "Epoch 28/500\n",
            "3750/3750 [==============================] - 10s 3ms/step - loss: 0.0940 - val_loss: 0.0939\n",
            "Epoch 29/500\n",
            "3750/3750 [==============================] - 10s 3ms/step - loss: 0.0940 - val_loss: 0.0938\n",
            "Epoch 30/500\n",
            "3750/3750 [==============================] - 10s 3ms/step - loss: 0.0940 - val_loss: 0.0939\n",
            "Epoch 31/500\n",
            "3750/3750 [==============================] - 10s 3ms/step - loss: 0.0939 - val_loss: 0.0941\n",
            "Epoch 32/500\n",
            "3750/3750 [==============================] - 10s 3ms/step - loss: 0.0939 - val_loss: 0.0937\n",
            "Epoch 33/500\n",
            "3750/3750 [==============================] - 10s 3ms/step - loss: 0.0939 - val_loss: 0.0936\n",
            "Epoch 34/500\n",
            "3750/3750 [==============================] - 10s 3ms/step - loss: 0.0939 - val_loss: 0.0950\n",
            "Epoch 35/500\n",
            "3750/3750 [==============================] - 10s 3ms/step - loss: 0.0939 - val_loss: 0.0936\n",
            "Epoch 36/500\n",
            "3750/3750 [==============================] - 10s 3ms/step - loss: 0.0938 - val_loss: 0.0949\n",
            "Epoch 37/500\n",
            "3750/3750 [==============================] - 10s 3ms/step - loss: 0.0939 - val_loss: 0.0936\n",
            "Epoch 38/500\n",
            "3750/3750 [==============================] - 10s 3ms/step - loss: 0.0938 - val_loss: 0.0939\n",
            "Epoch 39/500\n",
            "3750/3750 [==============================] - 10s 3ms/step - loss: 0.0938 - val_loss: 0.0939\n",
            "Epoch 40/500\n",
            "3750/3750 [==============================] - 10s 3ms/step - loss: 0.0938 - val_loss: 0.0937\n",
            "Epoch 41/500\n",
            "3750/3750 [==============================] - 10s 3ms/step - loss: 0.0938 - val_loss: 0.0940\n",
            "Epoch 42/500\n",
            "3750/3750 [==============================] - 10s 3ms/step - loss: 0.0938 - val_loss: 0.0937\n",
            "Epoch 43/500\n",
            "3750/3750 [==============================] - 10s 3ms/step - loss: 0.0938 - val_loss: 0.0935\n",
            "Epoch 44/500\n",
            "3750/3750 [==============================] - 10s 3ms/step - loss: 0.0938 - val_loss: 0.0938\n",
            "Epoch 45/500\n",
            "3750/3750 [==============================] - 10s 3ms/step - loss: 0.0937 - val_loss: 0.0936\n",
            "Epoch 46/500\n",
            "3750/3750 [==============================] - 10s 3ms/step - loss: 0.0937 - val_loss: 0.0940\n",
            "Epoch 47/500\n",
            "3750/3750 [==============================] - 10s 3ms/step - loss: 0.0937 - val_loss: 0.0936\n",
            "Epoch 48/500\n",
            "3750/3750 [==============================] - 10s 3ms/step - loss: 0.0937 - val_loss: 0.0935\n",
            "Epoch 49/500\n",
            "3750/3750 [==============================] - 10s 3ms/step - loss: 0.0937 - val_loss: 0.0935\n",
            "Epoch 50/500\n",
            "3750/3750 [==============================] - 10s 3ms/step - loss: 0.0937 - val_loss: 0.0938\n",
            "Epoch 51/500\n",
            "3750/3750 [==============================] - 10s 3ms/step - loss: 0.0937 - val_loss: 0.0947\n",
            "Epoch 52/500\n",
            "3750/3750 [==============================] - 10s 3ms/step - loss: 0.0937 - val_loss: 0.0936\n",
            "Epoch 53/500\n",
            "3750/3750 [==============================] - 10s 3ms/step - loss: 0.0937 - val_loss: 0.0938\n",
            "Epoch 54/500\n",
            "3750/3750 [==============================] - 10s 3ms/step - loss: 0.0937 - val_loss: 0.0937\n",
            "Epoch 55/500\n",
            "3750/3750 [==============================] - 10s 3ms/step - loss: 0.0936 - val_loss: 0.0937\n",
            "Epoch 56/500\n",
            "3750/3750 [==============================] - 10s 3ms/step - loss: 0.0936 - val_loss: 0.0936\n",
            "Epoch 57/500\n",
            "3750/3750 [==============================] - 10s 3ms/step - loss: 0.0937 - val_loss: 0.0935\n",
            "Epoch 58/500\n",
            "3750/3750 [==============================] - 10s 3ms/step - loss: 0.0936 - val_loss: 0.0933\n",
            "Epoch 59/500\n",
            "3750/3750 [==============================] - 10s 3ms/step - loss: 0.0936 - val_loss: 0.0936\n",
            "Epoch 60/500\n",
            "3750/3750 [==============================] - 10s 3ms/step - loss: 0.0936 - val_loss: 0.0935\n",
            "Epoch 61/500\n",
            "3750/3750 [==============================] - 10s 3ms/step - loss: 0.0936 - val_loss: 0.0946\n",
            "Epoch 62/500\n",
            "3750/3750 [==============================] - 10s 3ms/step - loss: 0.0936 - val_loss: 0.0936\n",
            "Epoch 63/500\n",
            "3750/3750 [==============================] - 10s 3ms/step - loss: 0.0936 - val_loss: 0.0938\n",
            "Epoch 64/500\n",
            "3750/3750 [==============================] - 10s 3ms/step - loss: 0.0936 - val_loss: 0.0937\n",
            "Epoch 65/500\n",
            "3750/3750 [==============================] - 10s 3ms/step - loss: 0.0936 - val_loss: 0.0936\n",
            "Epoch 66/500\n",
            "3750/3750 [==============================] - 10s 3ms/step - loss: 0.0936 - val_loss: 0.0937\n",
            "Epoch 67/500\n",
            "3750/3750 [==============================] - 10s 3ms/step - loss: 0.0936 - val_loss: 0.0939\n",
            "Epoch 68/500\n",
            "3750/3750 [==============================] - 10s 3ms/step - loss: 0.0936 - val_loss: 0.0935\n"
          ],
          "name": "stdout"
        },
        {
          "output_type": "execute_result",
          "data": {
            "text/plain": [
              "<tensorflow.python.keras.callbacks.History at 0x7fb935099978>"
            ]
          },
          "metadata": {
            "tags": []
          },
          "execution_count": 41
        }
      ]
    },
    {
      "cell_type": "code",
      "metadata": {
        "id": "I6kuDKt3fhlm",
        "colab_type": "code",
        "colab": {}
      },
      "source": [
        "decoded_imgs = autoencoder.predict(x_test_noisy)"
      ],
      "execution_count": 0,
      "outputs": []
    },
    {
      "cell_type": "code",
      "metadata": {
        "id": "Kgt82eLtfhlq",
        "colab_type": "code",
        "outputId": "b3d4ae16-ebc4-4cc3-81b3-d2969529ab62",
        "colab": {
          "base_uri": "https://localhost:8080/",
          "height": 248
        }
      },
      "source": [
        "n = 10\n",
        "plt.figure(figsize=(20, 4))\n",
        "for i in range(1,n):\n",
        "    # display original\n",
        "    ax = plt.subplot(2, n, i)\n",
        "    plt.imshow(x_test_noisy[i].reshape(28, 28))\n",
        "    plt.gray()\n",
        "    ax.get_xaxis().set_visible(False)\n",
        "    ax.get_yaxis().set_visible(False)\n",
        "\n",
        "    # display reconstruction\n",
        "    ax = plt.subplot(2, n, i + n)\n",
        "    plt.imshow(decoded_imgs[i].reshape(28, 28))\n",
        "    plt.gray()\n",
        "    ax.get_xaxis().set_visible(False)\n",
        "    ax.get_yaxis().set_visible(False)\n",
        "plt.show()"
      ],
      "execution_count": 0,
      "outputs": [
        {
          "output_type": "display_data",
          "data": {
            "image/png": "[encoded data removed]",
            "text/plain": [
              "<Figure size 1440x288 with 18 Axes>"
            ]
          },
          "metadata": {
            "tags": [],
            "needs_background": "light"
          }
        }
      ]
    },
    {
      "cell_type": "code",
      "metadata": {
        "id": "zwWY6q9G5fvX",
        "colab_type": "code",
        "colab": {}
      },
      "source": [
        ""
      ],
      "execution_count": 0,
      "outputs": []
    }
  ]
}